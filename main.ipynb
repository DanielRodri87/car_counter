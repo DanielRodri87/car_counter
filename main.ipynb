{
 "cells": [
  {
   "cell_type": "code",
   "execution_count": 3,
   "metadata": {},
   "outputs": [],
   "source": [
    "# Imports\n",
    "import cv2\n",
    "import numpy as np\n",
    "from time import sleep\n",
    "import sklearn\n",
    "import tkinter as tk\n",
    "from tkinter import filedialog\n"
   ]
  },
  {
   "cell_type": "markdown",
   "metadata": {},
   "source": [
    "> Faço uma janela de diálogo para seleção do vídeo"
   ]
  },
  {
   "cell_type": "code",
   "execution_count": 4,
   "metadata": {},
   "outputs": [],
   "source": [
    "def select_video_file():\n",
    "    # Abre o explorador de arquivos para selecionar um vídeo\n",
    "    file_path = filedialog.askopenfilename(filetypes=[(\"Video files\", \"*.mp4;*.avi;*.mov\")])\n",
    "    return file_path\n"
   ]
  },
  {
   "cell_type": "markdown",
   "metadata": {},
   "source": [
    "> Janela onde irá fazer o processo no vídeo"
   ]
  },
  {
   "cell_type": "code",
   "execution_count": 5,
   "metadata": {},
   "outputs": [],
   "source": [
    "def process_video(video_path):\n",
    "    # Carrega o classificador Haar Cascade para detecção de carros\n",
    "    car_cascade = cv2.CascadeClassifier(cv2.data.haarcascades + 'haarcascade_car.xml')\n",
    "\n",
    "    # Abre o vídeo\n",
    "    cap = cv2.VideoCapture(video_path)\n",
    "    \n",
    "    # Verifica se o vídeo foi aberto com sucesso\n",
    "    if not cap.isOpened():\n",
    "        print(\"Erro ao abrir o vídeo.\")\n",
    "        return\n",
    "\n",
    "    car_count = 0  # Inicializa o contador de carros\n",
    "\n",
    "    while True:\n",
    "        ret, frame = cap.read()\n",
    "        if not ret:\n",
    "            break\n",
    "\n",
    "        # Converte o frame para escala de cinza\n",
    "        gray = cv2.cvtColor(frame, cv2.COLOR_BGR2GRAY)\n",
    "        \n",
    "        # Detecta carros usando Haar Cascade\n",
    "        cars = car_cascade.detectMultiScale(gray, 1.1, 1)\n",
    "\n",
    "        # Marca cada carro detectado\n",
    "        for (x, y, w, h) in cars:\n",
    "            cv2.rectangle(frame, (x, y), (x + w, y + h), (0, 255, 0), 2)\n",
    "            car_count += 1\n",
    "\n",
    "        # Exibe o contador de carros\n",
    "        cv2.putText(frame, f\"Carros: {car_count}\", (10, 30), cv2.FONT_HERSHEY_SIMPLEX, 1, (0, 0, 255), 2)\n",
    "\n",
    "        # Mostra o vídeo com as marcações\n",
    "        cv2.imshow('Video', frame)\n",
    "\n",
    "        # Espera 1 ms e sai se 'q' for pressionado\n",
    "        if cv2.waitKey(1) & 0xFF == ord('q'):\n",
    "            break\n",
    "\n",
    "    # Libera o vídeo e fecha todas as janelas\n",
    "    cap.release()\n",
    "    cv2.destroyAllWindows()"
   ]
  },
  {
   "cell_type": "markdown",
   "metadata": {},
   "source": [
    "> Função principal do programa"
   ]
  },
  {
   "cell_type": "code",
   "execution_count": null,
   "metadata": {},
   "outputs": [],
   "source": [
    "def main():\n",
    "    # Cria a janela principal do Tkinter\n",
    "    root = tk.Tk()\n",
    "    root.withdraw()  # Oculta a janela principal\n",
    "\n",
    "    # Seleciona o vídeo\n",
    "    video_path = select_video_file()\n",
    "\n",
    "    # Processa o vídeo\n",
    "    if video_path:\n",
    "        process_video(video_path)\n",
    "\n",
    "if __name__ == \"__main__\":\n",
    "    main()\n"
   ]
  }
 ],
 "metadata": {
  "kernelspec": {
   "display_name": "base",
   "language": "python",
   "name": "python3"
  },
  "language_info": {
   "codemirror_mode": {
    "name": "ipython",
    "version": 3
   },
   "file_extension": ".py",
   "mimetype": "text/x-python",
   "name": "python",
   "nbconvert_exporter": "python",
   "pygments_lexer": "ipython3",
   "version": "3.9.13"
  }
 },
 "nbformat": 4,
 "nbformat_minor": 2
}
